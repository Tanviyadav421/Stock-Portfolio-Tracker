{
 "cells": [
  {
   "cell_type": "code",
   "execution_count": null,
   "id": "74d4638c-0c45-44d0-b261-e96960807d34",
   "metadata": {},
   "outputs": [
    {
     "name": "stdout",
     "output_type": "stream",
     "text": [
      "📊 Welcome to Stock Portfolio Tracker 📊\n",
      "Available stocks and prices: {'AAPL': 180, 'TSLA': 250, 'GOOGL': 135, 'MSFT': 310}\n"
     ]
    },
    {
     "name": "stdin",
     "output_type": "stream",
     "text": [
      "\n",
      "Enter stock symbol (or 'done' to finish):  TSLA\n",
      "Enter quantity of TSLA:  300\n",
      "\n",
      "Enter stock symbol (or 'done' to finish):  done\n"
     ]
    },
    {
     "name": "stdout",
     "output_type": "stream",
     "text": [
      "\n",
      "📈 Your Portfolio Summary 📈\n",
      "TSLA: 300 shares × $250 = $75000\n",
      "\n",
      "💰 Total Investment Value: $75000\n"
     ]
    }
   ],
   "source": [
    "# Stock Portfolio Tracker\n",
    "\n",
    "# Hardcoded stock prices\n",
    "stock_prices = {\n",
    "    \"AAPL\": 180,\n",
    "    \"TSLA\": 250,\n",
    "    \"GOOGL\": 135,\n",
    "    \"MSFT\": 310\n",
    "}\n",
    "\n",
    "portfolio = {}\n",
    "total_investment = 0\n",
    "\n",
    "print(\"📊 Welcome to Stock Portfolio Tracker 📊\")\n",
    "print(\"Available stocks and prices:\", stock_prices)\n",
    "\n",
    "# User input loop\n",
    "while True:\n",
    "    stock = input(\"\\nEnter stock symbol (or 'done' to finish): \").upper()\n",
    "    if stock == \"DONE\":\n",
    "        break\n",
    "    if stock not in stock_prices:\n",
    "        print(\"❌ Stock not found in price list.\")\n",
    "        continue\n",
    "    try:\n",
    "        qty = int(input(f\"Enter quantity of {stock}: \"))\n",
    "    except ValueError:\n",
    "        print(\"❌ Please enter a valid number.\")\n",
    "        continue\n",
    "\n",
    "    # Store in portfolio\n",
    "    portfolio[stock] = portfolio.get(stock, 0) + qty\n",
    "\n",
    "# Calculate total investment\n",
    "print(\"\\n📈 Your Portfolio Summary 📈\")\n",
    "for stock, qty in portfolio.items():\n",
    "    value = stock_prices[stock] * qty\n",
    "    total_investment += value\n",
    "    print(f\"{stock}: {qty} shares × ${stock_prices[stock]} = ${value}\")\n",
    "\n",
    "print(f\"\\n💰 Total Investment Value: ${total_investment}\")\n",
    "\n",
    "# Optionally save to file\n",
    "save_choice = input(\"\\nDo you want to save results to a file? (yes/no): \").lower()\n",
    "if save_choice == \"yes\":\n",
    "    filename = \"portfolio.txt\"\n",
    "    with open(filename, \"w\") as f:\n",
    "        f.write(\"Stock Portfolio Summary\\n\")\n",
    "        for stock, qty in portfolio.items():\n",
    "            value = stock_prices[stock] * qty\n",
    "            f.write(f\"{stock}: {qty} shares × ${stock_prices[stock]} = ${value}\\n\")\n",
    "        f.write(f\"\\nTotal Investment Value: ${total_investment}\\n\")\n",
    "    print(f\"✅ Results saved to {filename}\")\n",
    "   "
   ]
  },
  {
   "cell_type": "code",
   "execution_count": null,
   "id": "ce9b6a4b-bd40-4f01-99c3-341c96d59f1a",
   "metadata": {},
   "outputs": [],
   "source": []
  }
 ],
 "metadata": {
  "kernelspec": {
   "display_name": "Python [conda env:base] *",
   "language": "python",
   "name": "conda-base-py"
  },
  "language_info": {
   "codemirror_mode": {
    "name": "ipython",
    "version": 3
   },
   "file_extension": ".py",
   "mimetype": "text/x-python",
   "name": "python",
   "nbconvert_exporter": "python",
   "pygments_lexer": "ipython3",
   "version": "3.13.5"
  }
 },
 "nbformat": 4,
 "nbformat_minor": 5
}
